{
 "cells": [
  {
   "metadata": {},
   "cell_type": "markdown",
   "source": "Hunt and battle in the OwO game in my discord server, which makes my animals gain XP",
   "id": "e8c6ae4fe193d6f4"
  },
  {
   "cell_type": "code",
   "id": "af7316fb8aae13ee",
   "metadata": {
    "collapsed": true,
    "ExecuteTime": {
     "end_time": "2024-08-31T14:06:23.211602Z",
     "start_time": "2024-08-31T14:06:13.320526Z"
    }
   },
   "source": [
    "import time\n",
    "from random import random\n",
    "\n",
    "from selenium.webdriver import Firefox\n",
    "from selenium.webdriver.common.keys import Keys\n",
    "from selenium.webdriver.firefox.options import Options\n",
    "from selenium.webdriver.firefox.service import Service\n",
    "\n",
    "options = Options()\n",
    "options.add_argument('--no-sandbox')\n",
    "options.add_argument('--disable-dev-shm-usage')\n",
    "\n",
    "driver_service = Service(executable_path='/snap/bin/geckodriver')\n",
    "\n",
    "# options.headless = True  # Uncomment if you want to run headless\n",
    "driver = Firefox(options=options, service=driver_service)\n",
    "\n",
    "credentials = open('credentials', 'r').readlines()\n",
    "credentials = {a.split('=')[0]: a.split('=')[1] for a in credentials}\n",
    "\n",
    "url = credentials['url']\n",
    "driver.get(url)\n",
    "\n",
    "user = credentials['user']\n",
    "search_form = driver.find_element(value='uid_7')\n",
    "search_form.send_keys(user)\n",
    "\n",
    "pwd = credentials['pwd']\n",
    "search_form = driver.find_element(value='uid_9')\n",
    "search_form.send_keys(pwd)\n",
    "\n",
    "search_form.submit()\n",
    "time.sleep(5)"
   ],
   "outputs": [],
   "execution_count": 5
  },
  {
   "metadata": {},
   "cell_type": "code",
   "source": [
    "active_elem = driver.switch_to.active_element\n",
    "\n",
    "MIN_WAIT = 2\n",
    "\n",
    "\n",
    "def launch(command, wait=MIN_WAIT):\n",
    "    active_elem.send_keys(command)\n",
    "    time.sleep(random())\n",
    "    active_elem.send_keys(Keys.RETURN)\n",
    "    time.sleep(wait + random())\n",
    "\n",
    "\n",
    "def launch_sometimes(command, frequency=0.2):\n",
    "    if random() < frequency:\n",
    "        launch(command)\n",
    "\n",
    "\n",
    "print('Getting daily cowoncy')\n",
    "launch('owo daily')\n",
    "\n",
    "n = 1000\n",
    "wait = 3 * 60 * 60 / n\n",
    "print(f'Waiting {wait:.1f} seconds between commands')\n",
    "print('Number of commands in 30 min:', int(30 * 60 / wait))\n",
    "\n",
    "for i in range(n // 2):\n",
    "    print(f'Battle and Hunt #{i + 1}')\n",
    "    launch('owo b', wait=wait)\n",
    "    launch('owo h', wait=wait)\n",
    "\n",
    "    launch_sometimes('owo inv')\n",
    "    launch_sometimes('owo zoo')\n",
    "    launch_sometimes('owo team')\n",
    "    launch_sometimes('owo ah')\n",
    "\n",
    "print(f'Done running {n} commands')"
   ],
   "id": "4c3d26648cc07cec",
   "outputs": [],
   "execution_count": null
  }
 ],
 "metadata": {
  "kernelspec": {
   "display_name": "Python 3",
   "language": "python",
   "name": "python3"
  },
  "language_info": {
   "codemirror_mode": {
    "name": "ipython",
    "version": 2
   },
   "file_extension": ".py",
   "mimetype": "text/x-python",
   "name": "python",
   "nbconvert_exporter": "python",
   "pygments_lexer": "ipython2",
   "version": "2.7.6"
  }
 },
 "nbformat": 4,
 "nbformat_minor": 5
}
