{
 "cells": [
  {
   "metadata": {},
   "cell_type": "markdown",
   "source": "Hunt and battle in the OwO game in my discord server, which makes my animals gain XP",
   "id": "e8c6ae4fe193d6f4"
  },
  {
   "cell_type": "code",
   "id": "af7316fb8aae13ee",
   "metadata": {
    "collapsed": true,
    "ExecuteTime": {
     "end_time": "2024-08-12T11:50:10.372201Z",
     "start_time": "2024-08-12T11:50:01.718141Z"
    }
   },
   "source": [
    "import time\n",
    "from random import random\n",
    "\n",
    "from selenium.webdriver import Firefox\n",
    "from selenium.webdriver.common.keys import Keys\n",
    "from selenium.webdriver.firefox.options import Options\n",
    "\n",
    "options = Options()\n",
    "# options.headless = True  # Uncomment if you want to run headless\n",
    "driver = Firefox(options=options)\n",
    "\n",
    "credentials = open('credentials', 'r').readlines()\n",
    "credentials = {a.split('=')[0]: a.split('=')[1] for a in credentials}\n",
    "\n",
    "url = credentials['url']\n",
    "driver.get(url)\n",
    "\n",
    "user = credentials['user']\n",
    "search_form = driver.find_element(value='uid_7')\n",
    "search_form.send_keys(user)\n",
    "\n",
    "pwd = credentials['pwd']\n",
    "search_form = driver.find_element(value='uid_9')\n",
    "search_form.send_keys(pwd)\n",
    "\n",
    "search_form.submit()\n",
    "time.sleep(5)"
   ],
   "outputs": [],
   "execution_count": 1
  },
  {
   "metadata": {
    "jupyter": {
     "is_executing": true
    },
    "ExecuteTime": {
     "start_time": "2024-08-12T11:50:10.373239Z"
    }
   },
   "cell_type": "code",
   "source": [
    "active_elem = driver.switch_to.active_element\n",
    "\n",
    "print('Getting daily cowoncy')\n",
    "active_elem.send_keys('owo daily')\n",
    "time.sleep(random())\n",
    "active_elem.send_keys(Keys.RETURN)\n",
    "time.sleep(2 + 2 * random())\n",
    "\n",
    "i = 0\n",
    "while True:\n",
    "    i += 1\n",
    "    print(f'Hunt & battle #{i}')\n",
    "    active_elem.send_keys('owo h')\n",
    "    time.sleep(random())\n",
    "    active_elem.send_keys(Keys.RETURN)\n",
    "    time.sleep(2 + 2 * random())\n",
    "    \n",
    "    if random() > .3:\n",
    "        active_elem.send_keys('owo inv')\n",
    "        time.sleep(random())\n",
    "        active_elem.send_keys(Keys.RETURN)\n",
    "        time.sleep(1 + 2 * random())\n",
    "    \n",
    "    if random() > .3:\n",
    "        active_elem.send_keys('owo zoo')\n",
    "        time.sleep(random())\n",
    "        active_elem.send_keys(Keys.RETURN)\n",
    "        time.sleep(1 + 2 * random())\n",
    "    \n",
    "    if random() > .3:\n",
    "        active_elem.send_keys('owo team')\n",
    "        time.sleep(random())\n",
    "        active_elem.send_keys(Keys.RETURN)\n",
    "        time.sleep(1 + 2 * random())\n",
    "        \n",
    "\n",
    "    active_elem.send_keys('owo b')\n",
    "    time.sleep(random())\n",
    "    active_elem.send_keys(Keys.RETURN)\n",
    "    time.sleep(13 + 5 * random())"
   ],
   "id": "4c3d26648cc07cec",
   "outputs": [],
   "execution_count": null
  }
 ],
 "metadata": {
  "kernelspec": {
   "display_name": "Python 3",
   "language": "python",
   "name": "python3"
  },
  "language_info": {
   "codemirror_mode": {
    "name": "ipython",
    "version": 2
   },
   "file_extension": ".py",
   "mimetype": "text/x-python",
   "name": "python",
   "nbconvert_exporter": "python",
   "pygments_lexer": "ipython2",
   "version": "2.7.6"
  }
 },
 "nbformat": 4,
 "nbformat_minor": 5
}
